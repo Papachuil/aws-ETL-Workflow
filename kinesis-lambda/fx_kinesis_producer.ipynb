{
  "nbformat": 4,
  "nbformat_minor": 0,
  "metadata": {
    "colab": {
      "provenance": []
    },
    "kernelspec": {
      "name": "python3",
      "display_name": "Python 3"
    },
    "language_info": {
      "name": "python"
    }
  },
  "cells": [
    {
      "cell_type": "code",
      "execution_count": null,
      "metadata": {
        "colab": {
          "base_uri": "https://localhost:8080/"
        },
        "id": "sY1dsrrLxHt0",
        "outputId": "d6d53a69-7285-4019-c760-c206fc4bb2f4"
      },
      "outputs": [
        {
          "output_type": "stream",
          "name": "stdout",
          "text": [
            "Collecting boto3\n",
            "  Downloading boto3-1.34.11-py3-none-any.whl (139 kB)\n",
            "\u001b[2K     \u001b[90m━━━━━━━━━━━━━━━━━━━━━━━━━━━━━━━━━━━━━━━━\u001b[0m \u001b[32m139.3/139.3 kB\u001b[0m \u001b[31m875.5 kB/s\u001b[0m eta \u001b[36m0:00:00\u001b[0m\n",
            "\u001b[?25hCollecting awscli\n",
            "  Downloading awscli-1.32.11-py3-none-any.whl (4.3 MB)\n",
            "\u001b[2K     \u001b[90m━━━━━━━━━━━━━━━━━━━━━━━━━━━━━━━━━━━━━━━━\u001b[0m \u001b[32m4.3/4.3 MB\u001b[0m \u001b[31m12.0 MB/s\u001b[0m eta \u001b[36m0:00:00\u001b[0m\n",
            "\u001b[?25hCollecting botocore<1.35.0,>=1.34.11 (from boto3)\n",
            "  Downloading botocore-1.34.11-py3-none-any.whl (11.9 MB)\n",
            "\u001b[2K     \u001b[90m━━━━━━━━━━━━━━━━━━━━━━━━━━━━━━━━━━━━━━━━\u001b[0m \u001b[32m11.9/11.9 MB\u001b[0m \u001b[31m40.8 MB/s\u001b[0m eta \u001b[36m0:00:00\u001b[0m\n",
            "\u001b[?25hCollecting jmespath<2.0.0,>=0.7.1 (from boto3)\n",
            "  Downloading jmespath-1.0.1-py3-none-any.whl (20 kB)\n",
            "Collecting s3transfer<0.11.0,>=0.10.0 (from boto3)\n",
            "  Downloading s3transfer-0.10.0-py3-none-any.whl (82 kB)\n",
            "\u001b[2K     \u001b[90m━━━━━━━━━━━━━━━━━━━━━━━━━━━━━━━━━━━━━━━━\u001b[0m \u001b[32m82.1/82.1 kB\u001b[0m \u001b[31m7.6 MB/s\u001b[0m eta \u001b[36m0:00:00\u001b[0m\n",
            "\u001b[?25hCollecting docutils<0.17,>=0.10 (from awscli)\n",
            "  Downloading docutils-0.16-py2.py3-none-any.whl (548 kB)\n",
            "\u001b[2K     \u001b[90m━━━━━━━━━━━━━━━━━━━━━━━━━━━━━━━━━━━━━━━━\u001b[0m \u001b[32m548.2/548.2 kB\u001b[0m \u001b[31m23.1 MB/s\u001b[0m eta \u001b[36m0:00:00\u001b[0m\n",
            "\u001b[?25hRequirement already satisfied: PyYAML<6.1,>=3.10 in /usr/local/lib/python3.10/dist-packages (from awscli) (6.0.1)\n",
            "Collecting colorama<0.4.5,>=0.2.5 (from awscli)\n",
            "  Downloading colorama-0.4.4-py2.py3-none-any.whl (16 kB)\n",
            "Collecting rsa<4.8,>=3.1.2 (from awscli)\n",
            "  Downloading rsa-4.7.2-py3-none-any.whl (34 kB)\n",
            "Requirement already satisfied: python-dateutil<3.0.0,>=2.1 in /usr/local/lib/python3.10/dist-packages (from botocore<1.35.0,>=1.34.11->boto3) (2.8.2)\n",
            "Requirement already satisfied: urllib3<2.1,>=1.25.4 in /usr/local/lib/python3.10/dist-packages (from botocore<1.35.0,>=1.34.11->boto3) (2.0.7)\n",
            "Requirement already satisfied: pyasn1>=0.1.3 in /usr/local/lib/python3.10/dist-packages (from rsa<4.8,>=3.1.2->awscli) (0.5.1)\n",
            "Requirement already satisfied: six>=1.5 in /usr/local/lib/python3.10/dist-packages (from python-dateutil<3.0.0,>=2.1->botocore<1.35.0,>=1.34.11->boto3) (1.16.0)\n",
            "Installing collected packages: rsa, jmespath, docutils, colorama, botocore, s3transfer, boto3, awscli\n",
            "  Attempting uninstall: rsa\n",
            "    Found existing installation: rsa 4.9\n",
            "    Uninstalling rsa-4.9:\n",
            "      Successfully uninstalled rsa-4.9\n",
            "  Attempting uninstall: docutils\n",
            "    Found existing installation: docutils 0.18.1\n",
            "    Uninstalling docutils-0.18.1:\n",
            "      Successfully uninstalled docutils-0.18.1\n",
            "\u001b[31mERROR: pip's dependency resolver does not currently take into account all the packages that are installed. This behaviour is the source of the following dependency conflicts.\n",
            "llmx 0.0.15a0 requires cohere, which is not installed.\n",
            "llmx 0.0.15a0 requires openai, which is not installed.\n",
            "llmx 0.0.15a0 requires tiktoken, which is not installed.\u001b[0m\u001b[31m\n",
            "\u001b[0mSuccessfully installed awscli-1.32.11 boto3-1.34.11 botocore-1.34.11 colorama-0.4.4 docutils-0.16 jmespath-1.0.1 rsa-4.7.2 s3transfer-0.10.0\n"
          ]
        }
      ],
      "source": [
        "!pip install boto3 awscli\n"
      ]
    },
    {
      "cell_type": "code",
      "source": [
        "import getpass\n",
        "\n",
        "# Input AWS credentials and region\n",
        "aws_access_key_id = getpass.getpass('Enter AWS Access Key ID: ')\n",
        "aws_secret_access_key = getpass.getpass('Enter AWS Secret Access Key: ')\n",
        "aws_region = input('Enter AWS Region: ')\n",
        "\n",
        "!aws configure set aws_access_key_id $aws_access_key_id\n",
        "!aws configure set aws_secret_access_key $aws_secret_access_key\n",
        "!aws configure set default.region $aws_region"
      ],
      "metadata": {
        "colab": {
          "base_uri": "https://localhost:8080/"
        },
        "id": "F1tGXb12x8fY",
        "outputId": "53e30d7a-d2ab-464f-84b3-12d92521f154"
      },
      "execution_count": null,
      "outputs": [
        {
          "name": "stdout",
          "output_type": "stream",
          "text": [
            "Enter AWS Access Key ID: ··········\n",
            "Enter AWS Secret Access Key: ··········\n",
            "Enter AWS Region: us-east-1\n"
          ]
        }
      ]
    },
    {
      "cell_type": "code",
      "source": [
        "stream_name = 'Fxweatherstream'\n"
      ],
      "metadata": {
        "id": "5EdD20pGyK_D"
      },
      "execution_count": null,
      "outputs": []
    },
    {
      "cell_type": "code",
      "source": [
        "!aws kinesis create-stream --stream-name Fxweatherstream\n"
      ],
      "metadata": {
        "id": "a8KL6Qm3yVfE"
      },
      "execution_count": null,
      "outputs": []
    },
    {
      "cell_type": "code",
      "source": [
        "!aws kinesis describe-stream-summary --stream-name Fxweatherstream"
      ],
      "metadata": {
        "colab": {
          "base_uri": "https://localhost:8080/"
        },
        "id": "WkVFNREpyZZC",
        "outputId": "39cbefe8-0f3c-4b48-8f00-c8b910b6b3ac"
      },
      "execution_count": null,
      "outputs": [
        {
          "output_type": "stream",
          "name": "stdout",
          "text": [
            "{\n",
            "    \"StreamDescriptionSummary\": {\n",
            "        \"StreamName\": \"Fxweatherstream\",\n",
            "        \"StreamARN\": \"arn:aws:kinesis:us-east-1:522723766177:stream/Fxweatherstream\",\n",
            "        \"StreamStatus\": \"ACTIVE\",\n",
            "        \"StreamModeDetails\": {\n",
            "            \"StreamMode\": \"ON_DEMAND\"\n",
            "        },\n",
            "        \"RetentionPeriodHours\": 24,\n",
            "        \"StreamCreationTimestamp\": 1704024709.0,\n",
            "        \"EnhancedMonitoring\": [\n",
            "            {\n",
            "                \"ShardLevelMetrics\": []\n",
            "            }\n",
            "        ],\n",
            "        \"EncryptionType\": \"NONE\",\n",
            "        \"OpenShardCount\": 4,\n",
            "        \"ConsumerCount\": 0\n",
            "    }\n",
            "}\n"
          ]
        }
      ]
    },
    {
      "cell_type": "code",
      "source": [
        "import boto3\n",
        "import json\n",
        "import time\n",
        "import random\n",
        "# Initialize Kinesis client\n",
        "kinesis_client = boto3.client('kinesis', aws_access_key_id=aws_access_key_id, aws_secret_access_key=aws_secret_access_key, region_name=aws_region)\n"
      ],
      "metadata": {
        "id": "1AlBLHkOycW8"
      },
      "execution_count": null,
      "outputs": []
    },
    {
      "cell_type": "code",
      "source": [
        "def put_weather_data(city, temperature, humidity):\n",
        "    try:\n",
        "        data = {\n",
        "            \"city\": city,\n",
        "            \"temperature\": temperature,\n",
        "            \"humidity\": humidity,\n",
        "            \"timestamp\": int(time.time())\n",
        "        }\n",
        "\n",
        "        response = kinesis_client.put_record(\n",
        "            StreamName=stream_name,\n",
        "            Data=json.dumps(data),\n",
        "            PartitionKey=city\n",
        "        )\n",
        "        print(f\"Weather data written to Kinesis. SequenceNumber: {response['SequenceNumber']}, ShardId: {response['ShardId']}, Data: {data}\")\n",
        "    except Exception as e:\n",
        "        print(f\"Error: {e}\")\n"
      ],
      "metadata": {
        "id": "kQIuiyGQysJO"
      },
      "execution_count": null,
      "outputs": []
    },
    {
      "cell_type": "code",
      "source": [
        "if __name__ == \"__main__\":\n",
        "    cities = [\"New York\", \"Los Angeles\", \"Chicago\", \"Houston\", \"Miami\"]\n",
        "\n",
        "    for _ in range(5):\n",
        "        city = random.choice(cities)\n",
        "        temperature = round(random.uniform(10, 30), 2)\n",
        "        humidity = round(random.uniform(40, 80), 2)\n",
        "\n",
        "        put_weather_data(city, temperature, humidity)\n",
        "        time.sleep(2)  # Simulating periodic data transmission"
      ],
      "metadata": {
        "colab": {
          "base_uri": "https://localhost:8080/"
        },
        "id": "0X1Vcvv0y1Ry",
        "outputId": "f8d2a90f-e529-46c8-9dbb-edec9cc88c30"
      },
      "execution_count": null,
      "outputs": [
        {
          "output_type": "stream",
          "name": "stdout",
          "text": [
            "Weather data written to Kinesis. SequenceNumber: 49647873640263458610754731919468965264146644284999729202, ShardId: shardId-000000000003, Data: {'city': 'Los Angeles', 'temperature': 19.4, 'humidity': 47.03, 'timestamp': 1704025822}\n",
            "Weather data written to Kinesis. SequenceNumber: 49647873640263458610754731919470174189966258982893912114, ShardId: shardId-000000000003, Data: {'city': 'Los Angeles', 'temperature': 17.46, 'humidity': 65.6, 'timestamp': 1704025825}\n",
            "Weather data written to Kinesis. SequenceNumber: 49647873640263458610754731919471383115785873818227048498, ShardId: shardId-000000000003, Data: {'city': 'Los Angeles', 'temperature': 22.99, 'humidity': 79.78, 'timestamp': 1704025827}\n",
            "Weather data written to Kinesis. SequenceNumber: 49647873640241157865556201378510206763276487563616976930, ShardId: shardId-000000000002, Data: {'city': 'Houston', 'temperature': 29.41, 'humidity': 58.55, 'timestamp': 1704025829}\n",
            "Weather data written to Kinesis. SequenceNumber: 49647873640263458610754731919472592041605488722279661618, ShardId: shardId-000000000003, Data: {'city': 'Los Angeles', 'temperature': 12.32, 'humidity': 70.8, 'timestamp': 1704025831}\n"
          ]
        }
      ]
    },
    {
      "cell_type": "code",
      "source": [],
      "metadata": {
        "id": "HDuENQfXzEEX"
      },
      "execution_count": null,
      "outputs": []
    }
  ]
}