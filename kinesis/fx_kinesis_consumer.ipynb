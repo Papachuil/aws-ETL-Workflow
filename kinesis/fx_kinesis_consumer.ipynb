{
  "nbformat": 4,
  "nbformat_minor": 0,
  "metadata": {
    "colab": {
      "provenance": []
    },
    "kernelspec": {
      "name": "python3",
      "display_name": "Python 3"
    },
    "language_info": {
      "name": "python"
    }
  },
  "cells": [
    {
      "cell_type": "code",
      "execution_count": null,
      "metadata": {
        "colab": {
          "base_uri": "https://localhost:8080/"
        },
        "id": "dzGDmNmKxQvC",
        "outputId": "51271101-4c5b-4fdc-a9bc-3904a3e4e327"
      },
      "outputs": [
        {
          "output_type": "stream",
          "name": "stdout",
          "text": [
            "Collecting boto3\n",
            "  Downloading boto3-1.34.11-py3-none-any.whl (139 kB)\n",
            "\u001b[2K     \u001b[90m━━━━━━━━━━━━━━━━━━━━━━━━━━━━━━━━━━━━━━━━\u001b[0m \u001b[32m139.3/139.3 kB\u001b[0m \u001b[31m1.1 MB/s\u001b[0m eta \u001b[36m0:00:00\u001b[0m\n",
            "\u001b[?25hCollecting awscli\n",
            "  Downloading awscli-1.32.11-py3-none-any.whl (4.3 MB)\n",
            "\u001b[2K     \u001b[90m━━━━━━━━━━━━━━━━━━━━━━━━━━━━━━━━━━━━━━━━\u001b[0m \u001b[32m4.3/4.3 MB\u001b[0m \u001b[31m9.6 MB/s\u001b[0m eta \u001b[36m0:00:00\u001b[0m\n",
            "\u001b[?25hCollecting botocore<1.35.0,>=1.34.11 (from boto3)\n",
            "  Downloading botocore-1.34.11-py3-none-any.whl (11.9 MB)\n",
            "\u001b[2K     \u001b[90m━━━━━━━━━━━━━━━━━━━━━━━━━━━━━━━━━━━━━━━━\u001b[0m \u001b[32m11.9/11.9 MB\u001b[0m \u001b[31m27.0 MB/s\u001b[0m eta \u001b[36m0:00:00\u001b[0m\n",
            "\u001b[?25hCollecting jmespath<2.0.0,>=0.7.1 (from boto3)\n",
            "  Downloading jmespath-1.0.1-py3-none-any.whl (20 kB)\n",
            "Collecting s3transfer<0.11.0,>=0.10.0 (from boto3)\n",
            "  Downloading s3transfer-0.10.0-py3-none-any.whl (82 kB)\n",
            "\u001b[2K     \u001b[90m━━━━━━━━━━━━━━━━━━━━━━━━━━━━━━━━━━━━━━━━\u001b[0m \u001b[32m82.1/82.1 kB\u001b[0m \u001b[31m3.7 MB/s\u001b[0m eta \u001b[36m0:00:00\u001b[0m\n",
            "\u001b[?25hCollecting docutils<0.17,>=0.10 (from awscli)\n",
            "  Downloading docutils-0.16-py2.py3-none-any.whl (548 kB)\n",
            "\u001b[2K     \u001b[90m━━━━━━━━━━━━━━━━━━━━━━━━━━━━━━━━━━━━━━━━\u001b[0m \u001b[32m548.2/548.2 kB\u001b[0m \u001b[31m29.5 MB/s\u001b[0m eta \u001b[36m0:00:00\u001b[0m\n",
            "\u001b[?25hRequirement already satisfied: PyYAML<6.1,>=3.10 in /usr/local/lib/python3.10/dist-packages (from awscli) (6.0.1)\n",
            "Collecting colorama<0.4.5,>=0.2.5 (from awscli)\n",
            "  Downloading colorama-0.4.4-py2.py3-none-any.whl (16 kB)\n",
            "Collecting rsa<4.8,>=3.1.2 (from awscli)\n",
            "  Downloading rsa-4.7.2-py3-none-any.whl (34 kB)\n",
            "Requirement already satisfied: python-dateutil<3.0.0,>=2.1 in /usr/local/lib/python3.10/dist-packages (from botocore<1.35.0,>=1.34.11->boto3) (2.8.2)\n",
            "Requirement already satisfied: urllib3<2.1,>=1.25.4 in /usr/local/lib/python3.10/dist-packages (from botocore<1.35.0,>=1.34.11->boto3) (2.0.7)\n",
            "Requirement already satisfied: pyasn1>=0.1.3 in /usr/local/lib/python3.10/dist-packages (from rsa<4.8,>=3.1.2->awscli) (0.5.1)\n",
            "Requirement already satisfied: six>=1.5 in /usr/local/lib/python3.10/dist-packages (from python-dateutil<3.0.0,>=2.1->botocore<1.35.0,>=1.34.11->boto3) (1.16.0)\n",
            "Installing collected packages: rsa, jmespath, docutils, colorama, botocore, s3transfer, boto3, awscli\n",
            "  Attempting uninstall: rsa\n",
            "    Found existing installation: rsa 4.9\n",
            "    Uninstalling rsa-4.9:\n",
            "      Successfully uninstalled rsa-4.9\n",
            "  Attempting uninstall: docutils\n",
            "    Found existing installation: docutils 0.18.1\n",
            "    Uninstalling docutils-0.18.1:\n",
            "      Successfully uninstalled docutils-0.18.1\n",
            "\u001b[31mERROR: pip's dependency resolver does not currently take into account all the packages that are installed. This behaviour is the source of the following dependency conflicts.\n",
            "llmx 0.0.15a0 requires cohere, which is not installed.\n",
            "llmx 0.0.15a0 requires openai, which is not installed.\n",
            "llmx 0.0.15a0 requires tiktoken, which is not installed.\u001b[0m\u001b[31m\n",
            "\u001b[0mSuccessfully installed awscli-1.32.11 boto3-1.34.11 botocore-1.34.11 colorama-0.4.4 docutils-0.16 jmespath-1.0.1 rsa-4.7.2 s3transfer-0.10.0\n"
          ]
        }
      ],
      "source": [
        "!pip install boto3 awscli\n"
      ]
    },
    {
      "cell_type": "code",
      "source": [
        "import getpass\n",
        "\n",
        "# Input AWS credentials and region\n",
        "aws_access_key_id = getpass.getpass('Enter AWS Access Key ID: ')\n",
        "aws_secret_access_key = getpass.getpass('Enter AWS Secret Access Key: ')\n",
        "aws_region = input('Enter AWS Region: ')\n",
        "\n",
        "!aws configure set aws_access_key_id $aws_access_key_id\n",
        "!aws configure set aws_secret_access_key $aws_secret_access_key\n",
        "!aws configure set default.region $aws_region\n"
      ],
      "metadata": {
        "colab": {
          "base_uri": "https://localhost:8080/"
        },
        "id": "m0aAtVJyzOIe",
        "outputId": "7dcfc1c9-944e-4d97-d886-8a69582e1758"
      },
      "execution_count": null,
      "outputs": [
        {
          "name": "stdout",
          "output_type": "stream",
          "text": [
            "Enter AWS Access Key ID: ··········\n",
            "Enter AWS Secret Access Key: ··········\n",
            "Enter AWS Region: us-east-1\n"
          ]
        }
      ]
    },
    {
      "cell_type": "code",
      "source": [
        "stream_name = 'Fxweatherstream'\n"
      ],
      "metadata": {
        "id": "SL1CCp7Hzcl-"
      },
      "execution_count": null,
      "outputs": []
    },
    {
      "cell_type": "code",
      "source": [
        "import boto3\n",
        "import json\n",
        "import time\n",
        "# Initialize Kinesis client\n",
        "kinesis_client = boto3.client('kinesis', aws_access_key_id=aws_access_key_id, aws_secret_access_key=aws_secret_access_key, region_name=aws_region)\n"
      ],
      "metadata": {
        "id": "TxvA5CMo1soN"
      },
      "execution_count": null,
      "outputs": []
    },
    {
      "cell_type": "code",
      "source": [
        "\n",
        "def get_shard_iterator():\n",
        "    response = kinesis_client.get_shard_iterator(\n",
        "        StreamName=stream_name,\n",
        "        ShardId='shardId-000000000003',  # Replace with your shard ID\n",
        "        ShardIteratorType='TRIM_HORIZON'\n",
        "    )\n",
        "    return response['ShardIterator']"
      ],
      "metadata": {
        "id": "K-kZt2wi12IP"
      },
      "execution_count": null,
      "outputs": []
    },
    {
      "cell_type": "code",
      "source": [
        "def get_records(shard_iterator):\n",
        "    response = kinesis_client.get_records(\n",
        "        ShardIterator=shard_iterator,\n",
        "        Limit=10\n",
        "    )\n",
        "    return response.get('Records', []), response.get('NextShardIterator')"
      ],
      "metadata": {
        "id": "0LfiGm6X2B3t"
      },
      "execution_count": null,
      "outputs": []
    },
    {
      "cell_type": "code",
      "source": [
        "def process_weather_data(data):\n",
        "    print(f\"Received Weather Data: {data}\")"
      ],
      "metadata": {
        "id": "u06PRC4I2GyR"
      },
      "execution_count": null,
      "outputs": []
    },
    {
      "cell_type": "code",
      "source": [
        "if __name__ == \"__main__\":\n",
        "    shard_iterator = get_shard_iterator()\n",
        "\n",
        "    while True:\n",
        "        records, next_shard_iterator = get_records(shard_iterator)\n",
        "        for record in records:\n",
        "            data = json.loads(record['Data'])\n",
        "            process_weather_data(data)\n",
        "\n",
        "        if not next_shard_iterator:\n",
        "            print(\"No more records in the shard. Exiting.\")\n",
        "            break\n",
        "\n",
        "        shard_iterator = next_shard_iterator\n",
        "        time.sleep(2)  # Add a delay between reads (adjust as needed)\n"
      ],
      "metadata": {
        "colab": {
          "base_uri": "https://localhost:8080/",
          "height": 315
        },
        "id": "7JkOvnZs2ViH",
        "outputId": "d1dfc96b-80f4-4ce6-bf04-5948884f5411"
      },
      "execution_count": null,
      "outputs": [
        {
          "output_type": "stream",
          "name": "stdout",
          "text": [
            "Received Weather Data: {'city': 'Los Angeles', 'temperature': 24.74, 'humidity': 62.39, 'timestamp': 1704025805}\n",
            "Received Weather Data: {'city': 'Los Angeles', 'temperature': 10.31, 'humidity': 61.62, 'timestamp': 1704025809}\n",
            "Received Weather Data: {'city': 'Los Angeles', 'temperature': 19.4, 'humidity': 47.03, 'timestamp': 1704025822}\n",
            "Received Weather Data: {'city': 'Los Angeles', 'temperature': 17.46, 'humidity': 65.6, 'timestamp': 1704025825}\n",
            "Received Weather Data: {'city': 'Los Angeles', 'temperature': 22.99, 'humidity': 79.78, 'timestamp': 1704025827}\n",
            "Received Weather Data: {'city': 'Los Angeles', 'temperature': 12.32, 'humidity': 70.8, 'timestamp': 1704025831}\n"
          ]
        },
        {
          "output_type": "error",
          "ename": "KeyboardInterrupt",
          "evalue": "ignored",
          "traceback": [
            "\u001b[0;31m---------------------------------------------------------------------------\u001b[0m",
            "\u001b[0;31mKeyboardInterrupt\u001b[0m                         Traceback (most recent call last)",
            "\u001b[0;32m<ipython-input-12-77f1d1b54c3a>\u001b[0m in \u001b[0;36m<cell line: 1>\u001b[0;34m()\u001b[0m\n\u001b[1;32m     13\u001b[0m \u001b[0;34m\u001b[0m\u001b[0m\n\u001b[1;32m     14\u001b[0m         \u001b[0mshard_iterator\u001b[0m \u001b[0;34m=\u001b[0m \u001b[0mnext_shard_iterator\u001b[0m\u001b[0;34m\u001b[0m\u001b[0;34m\u001b[0m\u001b[0m\n\u001b[0;32m---> 15\u001b[0;31m         \u001b[0mtime\u001b[0m\u001b[0;34m.\u001b[0m\u001b[0msleep\u001b[0m\u001b[0;34m(\u001b[0m\u001b[0;36m2\u001b[0m\u001b[0;34m)\u001b[0m  \u001b[0;31m# Add a delay between reads (adjust as needed)\u001b[0m\u001b[0;34m\u001b[0m\u001b[0;34m\u001b[0m\u001b[0m\n\u001b[0m",
            "\u001b[0;31mKeyboardInterrupt\u001b[0m: "
          ]
        }
      ]
    },
    {
      "cell_type": "code",
      "source": [
        "!aws kinesis delete-stream --stream-name Fxweatherstream\n"
      ],
      "metadata": {
        "id": "xNMPia9s2-DJ"
      },
      "execution_count": null,
      "outputs": []
    },
    {
      "cell_type": "code",
      "source": [],
      "metadata": {
        "id": "83okAw7h2jSG"
      },
      "execution_count": null,
      "outputs": []
    }
  ]
}